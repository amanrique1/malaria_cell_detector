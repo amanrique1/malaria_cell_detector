{
 "cells": [
  {
   "cell_type": "code",
   "execution_count": null,
   "metadata": {},
   "outputs": [],
   "source": [
    "%matplotlib inline\n",
    "import matplotlib.pyplot as plt\n",
    "import matplotlib.image as mpimg\n",
    "from sklearn.neighbors import KNeighborsClassifier\n",
    "from sklearn.metrics import accuracy_score, confusion_matrix, f1_score, precision_score, recall_score\n",
    "import pandas as pd\n",
    "import glob\n",
    "import numpy as np\n",
    "import plotly.express as px"
   ]
  },
  {
   "cell_type": "code",
   "execution_count": null,
   "metadata": {},
   "outputs": [],
   "source": [
    "paraTrain= glob.glob(\"data/training_set/Parasitized/*\")\n",
    "noParaTrain = glob.glob(\"data/training_set/Uninfected/*\")\n",
    "paraTest= glob.glob(\"data/testing_set/Parasitized/*\")\n",
    "noParaTest = glob.glob(\"data/testing_set/Uninfected/*\")"
   ]
  },
  {
   "cell_type": "code",
   "execution_count": null,
   "metadata": {},
   "outputs": [],
   "source": [
    "np.random.seed(0)\n",
    "trainSize = 400\n",
    "paraTrainIndexes = np.random.randint(len(paraTrain), size=trainSize)\n",
    "paraTrain = [mpimg.imread(paraTrain[i]) for i in paraTrainIndexes]\n",
    "noParaTrainIndexes = np.random.randint(len(noParaTrain), size=trainSize)\n",
    "noParaTrain = [mpimg.imread(noParaTrain[i]) for i in noParaTrainIndexes]\n",
    "trainData = paraTrain + noParaTrain\n",
    "trainLabels = [\"Sick\"]*trainSize + [\"Healthy\"]*trainSize\n",
    "\n",
    "testSize = 80\n",
    "paraTestIndexes = np.random.randint(len(paraTest), size=testSize)\n",
    "paraTest = [mpimg.imread(paraTest[i]) for i in paraTestIndexes]\n",
    "noParaTestIndexes = np.random.randint(len(noParaTest), size=testSize)\n",
    "noParaTest = [mpimg.imread(noParaTest[i]) for i in noParaTestIndexes]\n",
    "testData = paraTest + noParaTest\n",
    "testLabels = [\"Sick\"]*testSize + [\"Healthy\"]*testSize"
   ]
  },
  {
   "cell_type": "code",
   "execution_count": null,
   "metadata": {},
   "outputs": [],
   "source": [
    "trainHist = []\n",
    "for i in trainData:\n",
    "    flatImage = i.flatten()\n",
    "    flatImage = flatImage[flatImage != 0]\n",
    "    trainHist.append(np.histogram(flatImage, bins=20)[0]/float(len(flatImage)))\n",
    "\n",
    "testHist = []\n",
    "for i in testData:\n",
    "    flatImage = i.flatten()\n",
    "    flatImage = flatImage[flatImage != 0]\n",
    "    testHist.append(np.histogram(flatImage, bins=20)[0]/float(len(flatImage)))"
   ]
  },
  {
   "cell_type": "code",
   "execution_count": null,
   "metadata": {},
   "outputs": [],
   "source": [
    "precision_scores = []\n",
    "recall_scores = []\n",
    "bestK = 0\n",
    "bestF1 = 0\n",
    "bestConfMat = []\n",
    "for i in range (1,22,2):\n",
    "    print(\"K = \", i)\n",
    "    model = KNeighborsClassifier(n_neighbors=i)\n",
    "    model.fit(trainHist,trainLabels)\n",
    "    predictions = model.predict(testHist)\n",
    "    accuracy = round(accuracy_score(testLabels, predictions),3)\n",
    "    recall = round(recall_score(testLabels, predictions,average='macro'),3)\n",
    "    precision = round(precision_score(testLabels, predictions, average='macro'),3)\n",
    "    f1 = round(f1_score(testLabels, predictions, average='macro'),3)\n",
    "    confMat = confusion_matrix(testLabels, predictions)\n",
    "    precision_scores.append(precision)\n",
    "    recall_scores.append(recall)\n",
    "    if (f1 > bestF1):\n",
    "        bestF1 = f1\n",
    "        bestK = i\n",
    "        bestConfMat = confMat\n",
    "\n",
    "    print(f\"Accuracy: {accuracy}\")\n",
    "    print(f\"Precision: {precision}\")\n",
    "    print(f\"F1: {f1}\")\n",
    "    print(\"Confusion Matrix: \\n\", confMat)\n",
    "    print(\"\\n\")"
   ]
  },
  {
   "cell_type": "code",
   "execution_count": null,
   "metadata": {},
   "outputs": [],
   "source": [
    "print(\"------------------->Best model<-------------------\")\n",
    "print(\"K = \", bestK)\n",
    "print(f\"F1: {bestF1}\")\n",
    "print(\"\\n\")"
   ]
  },
  {
   "cell_type": "code",
   "execution_count": null,
   "metadata": {},
   "outputs": [],
   "source": [
    "k_values = [i for i in range(1,22,2)]\n",
    "df = pd.DataFrame(list(zip(recall_scores, precision_scores,k_values)),columns =['Recall', 'Precision',\"K\"])\n",
    "fig = px.line(df,x=\"Recall\", y=\"Precision\", text=\"K\",title=\"Precision vs Recall vs K\")\n",
    "fig.show()"
   ]
  }
 ],
 "metadata": {
  "interpreter": {
   "hash": "6d4ded0c72997cd0d02b727d18e699974b46aa806757ac4a648d6f1d9717fd23"
  },
  "kernelspec": {
   "display_name": "Python 3.9.6 64-bit ('IBIO3470-Imagenes': conda)",
   "name": "python3"
  },
  "language_info": {
   "codemirror_mode": {
    "name": "ipython",
    "version": 3
   },
   "file_extension": ".py",
   "mimetype": "text/x-python",
   "name": "python",
   "nbconvert_exporter": "python",
   "pygments_lexer": "ipython3",
   "version": "3.9.6"
  },
  "orig_nbformat": 4
 },
 "nbformat": 4,
 "nbformat_minor": 2
}
